{
 "cells": [
  {
   "cell_type": "code",
   "execution_count": 2,
   "id": "79699630",
   "metadata": {},
   "outputs": [
    {
     "name": "stdout",
     "output_type": "stream",
     "text": [
      "{'dNum': 10, 'dimSmp': 2, 'dimTrg': 1}\n",
      "{'sample': array([[0.14354847, 0.6626211 , 0.19490505, 0.42181154, 0.3209354 ,\n",
      "        0.53023194, 0.41786838, 0.34935457, 0.90670824, 0.45017572],\n",
      "       [0.25127054, 0.66786313, 0.27257129, 0.34873242, 0.38470917,\n",
      "        0.1495511 , 0.37092139, 0.32974903, 0.94867604, 0.35875565]]), 'target': array([[0.83548524, 0.84052962, 0.62876658, 0.84255673, 0.31501019,\n",
      "        0.95758925, 0.21717464, 0.17339707, 0.45304187, 0.78547279]])}\n"
     ]
    }
   ],
   "source": [
    "import numpy as np\n",
    "\n",
    "# make dataset\n",
    "#readme = {'dNum': 10, 'dimSmp': 2, 'dimTrg': 1} # dictionary to store dataset info\n",
    "\n",
    "readme = {}\n",
    "readme['dNum'] = 10\n",
    "readme['dimSmp'] = 2\n",
    "readme['dimTrg'] = 1\n",
    "\n",
    "print(readme)\n",
    "\n",
    "dataset = {}\n",
    "dataset['sample'] = np.random.rand(readme['dimSmp'], readme['dNum'])\n",
    "dataset['target'] = np.random.rand(readme['dimTrg'], readme['dNum'])\n",
    "\n",
    "\n",
    "'''\n",
    "dataset.sample = np.random.rand(readme['dimSmp'], readme['dNum'])\n",
    "dataset.target = np.random.rand(readme['dimTrg'], readme['dNum'])\n",
    "'''\n",
    "print(dataset)\n"
   ]
  },
  {
   "cell_type": "code",
   "execution_count": 5,
   "id": "ddcb9340",
   "metadata": {},
   "outputs": [
    {
     "name": "stdout",
     "output_type": "stream",
     "text": [
      "make_dataset_20230410.ipynb\n",
      "make_dataset_20230410.html\n",
      "jupyter nbconvert --to html make_dataset_20230410.ipynb\n"
     ]
    },
    {
     "data": {
      "text/plain": [
       "0"
      ]
     },
     "execution_count": 5,
     "metadata": {},
     "output_type": "execute_result"
    }
   ],
   "source": [
    "#modelPath = databankPath + dsTag + '/model/'\n",
    "#print(modelPath)\n",
    "\n",
    "# savde html file of this ipynb\n",
    "import os\n",
    "import shutil\n",
    "\n",
    "fcode = 'make_dataset_20230410'\n",
    "jyfn = fcode + '.ipynb' # jupyter file name\n",
    "htfn = fcode +  '.html'# html file name\n",
    "cmd = 'jupyter nbconvert --to html ' + jyfn\n",
    "#cpt = modelPath + htfn # copy path\n",
    "print(jyfn)\n",
    "print(htfn)\n",
    "print(cmd)\n",
    "#print(cpt)\n",
    "os.system(cmd)\n",
    "#shutil.copyfile(htfn, cpt)"
   ]
  },
  {
   "cell_type": "code",
   "execution_count": null,
   "id": "6fe67acf",
   "metadata": {},
   "outputs": [],
   "source": []
  }
 ],
 "metadata": {
  "kernelspec": {
   "display_name": "Python 3 (ipykernel)",
   "language": "python",
   "name": "python3"
  },
  "language_info": {
   "codemirror_mode": {
    "name": "ipython",
    "version": 3
   },
   "file_extension": ".py",
   "mimetype": "text/x-python",
   "name": "python",
   "nbconvert_exporter": "python",
   "pygments_lexer": "ipython3",
   "version": "3.9.16"
  }
 },
 "nbformat": 4,
 "nbformat_minor": 5
}
